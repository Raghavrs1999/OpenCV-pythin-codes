{
 "cells": [
  {
   "cell_type": "code",
   "execution_count": 18,
   "id": "c4d5adae",
   "metadata": {},
   "outputs": [],
   "source": [
    "import cv2\n",
    "import time\n",
    "\n",
    "cap = cv2.VideoCapture(0)\n",
    "cv2.namedWindow('Live Stream')\n",
    "cv2.namedWindow('Captured Image')\n",
    "\n",
    "while True:\n",
    "    # Capture frame\n",
    "    _, frame = cap.read()\n",
    "\n",
    "    # Display the resulting frame\n",
    "    cv2.imshow('Live Stream', frame)\n",
    "    key = cv2.waitKey(1)\n",
    "\n",
    "    # Check if the user pressed the 'c' key\n",
    "    if key == ord('c'):\n",
    "        countdown = 3\n",
    "        while countdown > 0:\n",
    "            # Create a new countdown frame for each countdown value\n",
    "            countdown_frame = frame.copy()\n",
    "            cv2.putText(countdown_frame, str(countdown), (countdown_frame.shape[1] - 50, 50), cv2.FONT_HERSHEY_SIMPLEX, 2, (0, 0, 255), 2, cv2.LINE_AA)\n",
    "            cv2.imshow('Live Stream', countdown_frame)\n",
    "            cv2.waitKey(1000)\n",
    "            countdown -= 1\n",
    "\n",
    "        # Capture the image\n",
    "        ret, image = cap.read()\n",
    "\n",
    "        # Save the captured image to file\n",
    "        timestamp = time.strftime('%d%m%Y_%H%M%S')\n",
    "        filename = 'captured_image_at_{}.jpg'.format(timestamp)\n",
    "        cv2.imwrite(filename, image)\n",
    "\n",
    "        # Display the captured image\n",
    "        cv2.imshow('Captured Image', image)\n",
    "        cv2.waitKey(1)\n",
    "\n",
    "    if key == ord('q') or key == 27:\n",
    "        break\n",
    "\n",
    "cap.release()\n",
    "cv2.destroyAllWindows()\n"
   ]
  },
  {
   "cell_type": "code",
   "execution_count": null,
   "id": "e4c5c23f",
   "metadata": {},
   "outputs": [],
   "source": []
  }
 ],
 "metadata": {
  "kernelspec": {
   "display_name": "Python 3 (ipykernel)",
   "language": "python",
   "name": "python3"
  },
  "language_info": {
   "codemirror_mode": {
    "name": "ipython",
    "version": 3
   },
   "file_extension": ".py",
   "mimetype": "text/x-python",
   "name": "python",
   "nbconvert_exporter": "python",
   "pygments_lexer": "ipython3",
   "version": "3.10.7"
  },
  "varInspector": {
   "cols": {
    "lenName": 16,
    "lenType": 16,
    "lenVar": 40
   },
   "kernels_config": {
    "python": {
     "delete_cmd_postfix": "",
     "delete_cmd_prefix": "del ",
     "library": "var_list.py",
     "varRefreshCmd": "print(var_dic_list())"
    },
    "r": {
     "delete_cmd_postfix": ") ",
     "delete_cmd_prefix": "rm(",
     "library": "var_list.r",
     "varRefreshCmd": "cat(var_dic_list()) "
    }
   },
   "types_to_exclude": [
    "module",
    "function",
    "builtin_function_or_method",
    "instance",
    "_Feature"
   ],
   "window_display": false
  }
 },
 "nbformat": 4,
 "nbformat_minor": 5
}
