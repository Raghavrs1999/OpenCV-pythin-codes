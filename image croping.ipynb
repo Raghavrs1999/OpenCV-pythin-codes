{
 "cells": [
  {
   "cell_type": "code",
   "execution_count": 3,
   "id": "e437b182",
   "metadata": {},
   "outputs": [
    {
     "ename": "error",
     "evalue": "OpenCV(4.7.0) D:\\a\\opencv-python\\opencv-python\\opencv\\modules\\imgproc\\src\\resize.cpp:4062: error: (-215:Assertion failed) !ssize.empty() in function 'cv::resize'\n",
     "output_type": "error",
     "traceback": [
      "\u001b[1;31m---------------------------------------------------------------------------\u001b[0m",
      "\u001b[1;31merror\u001b[0m                                     Traceback (most recent call last)",
      "Cell \u001b[1;32mIn[3], line 24\u001b[0m\n\u001b[0;32m     21\u001b[0m         cv2\u001b[38;5;241m.\u001b[39mimshow(\u001b[38;5;124m\"\u001b[39m\u001b[38;5;124mCropped Image\u001b[39m\u001b[38;5;124m\"\u001b[39m, crop_img)\n\u001b[0;32m     23\u001b[0m image \u001b[38;5;241m=\u001b[39m cv2\u001b[38;5;241m.\u001b[39mimread(\u001b[38;5;124m\"\u001b[39m\u001b[38;5;124mD:/Photo/*\u001b[39m\u001b[38;5;124m\"\u001b[39m)\n\u001b[1;32m---> 24\u001b[0m image \u001b[38;5;241m=\u001b[39m \u001b[43mcv2\u001b[49m\u001b[38;5;241;43m.\u001b[39;49m\u001b[43mresize\u001b[49m\u001b[43m(\u001b[49m\u001b[43mimage\u001b[49m\u001b[43m,\u001b[49m\u001b[43m \u001b[49m\u001b[43m(\u001b[49m\u001b[38;5;241;43m700\u001b[39;49m\u001b[43m,\u001b[49m\u001b[43m \u001b[49m\u001b[38;5;241;43m700\u001b[39;49m\u001b[43m)\u001b[49m\u001b[43m)\u001b[49m\n\u001b[0;32m     25\u001b[0m clone \u001b[38;5;241m=\u001b[39m image\u001b[38;5;241m.\u001b[39mcopy()\n\u001b[0;32m     26\u001b[0m cv2\u001b[38;5;241m.\u001b[39mnamedWindow(\u001b[38;5;124m\"\u001b[39m\u001b[38;5;124mCrop Image\u001b[39m\u001b[38;5;124m\"\u001b[39m)\n",
      "\u001b[1;31merror\u001b[0m: OpenCV(4.7.0) D:\\a\\opencv-python\\opencv-python\\opencv\\modules\\imgproc\\src\\resize.cpp:4062: error: (-215:Assertion failed) !ssize.empty() in function 'cv::resize'\n"
     ]
    }
   ],
   "source": [
    "import cv2\n",
    "import os\n",
    "\n",
    "if not os.path.exists(\"croped_faces\"):\n",
    "    os.makedirs(\"croped_faces\")\n",
    "count = 0\n",
    "def crop_img(event, x, y, flags, param):\n",
    "    global x1, y1, x2, y2, cropping, crop_img\n",
    "    \n",
    "    if event == cv2.EVENT_LBUTTONDOWN:\n",
    "        x1, y1 = x, y\n",
    "        cropping = True\n",
    "    \n",
    "    elif event == cv2.EVENT_LBUTTONUP:\n",
    "        x2, y2 = x, y\n",
    "        cropping = False\n",
    "    \n",
    "        ref_point = [(x1, y1), (x2, y2)]\n",
    "        crop_img = image[y1:y2, x1:x2]\n",
    "        cv2.rectangle(image, ref_point[0], ref_point[1], (0, 255, 0), 2)\n",
    "        cv2.imshow(\"Cropped Image\", crop_img)\n",
    "    \n",
    "image = cv2.imread(\"D:/Photo/*\")\n",
    "image = cv2.resize(image, (700, 700))\n",
    "clone = image.copy()\n",
    "cv2.namedWindow(\"Crop Image\")\n",
    "cv2.setMouseCallback(\"Crop Image\", crop_img)\n",
    "\n",
    "while True:\n",
    "    cv2.imshow(\"Crop Image\", image)\n",
    "    key = cv2.waitKey(1)\n",
    "    \n",
    "    if key == ord(\"s\"):\n",
    "        count += 1\n",
    "        cv2.imwrite(\"croped_faces/origenal_{}.jpg\".format(count), image)\n",
    "        cv2.imwrite(\"croped_faces/croped_{}.jpg\".format(count), crop_img)\n",
    "    \n",
    "    elif key == ord(\"q\") or key == 27: \n",
    "        break\n",
    "cv2.destroyAllWindows()\n"
   ]
  },
  {
   "cell_type": "code",
   "execution_count": 2,
   "id": "17ba2313",
   "metadata": {},
   "outputs": [],
   "source": [
    "import cv2\n",
    "import os\n",
    "\n",
    "#press \"esc\" to change the image\n",
    "image_dir = \"D:/Photo/\"\n",
    "output_dir = \"croped_faces\"\n",
    "if not os.path.exists(output_dir):\n",
    "    os.makedirs(output_dir)\n",
    "\n",
    "# Define the crop_img() function here\n",
    "def crop_img(event, x, y, flags, param):\n",
    "    global x1, y1, x2, y2, cropping, crop_img, image\n",
    "    \n",
    "    if event == cv2.EVENT_LBUTTONDOWN:\n",
    "        x1, y1 = x, y\n",
    "        cropping = True\n",
    "        \n",
    "    elif event == cv2.EVENT_LBUTTONUP:\n",
    "        x2, y2 = x, y\n",
    "        cropping = False\n",
    "        \n",
    "        ref_point = [(x1, y1), (x2, y2)]\n",
    "        crop_img = image[y1:y2, x1:x2]\n",
    "        cv2.rectangle(image, ref_point[0], ref_point[1], (0, 255, 0), 2)\n",
    "        cv2.imshow(\"Cropped Image\", crop_img)\n",
    "\n",
    "# Get a list of all image files in the directory\n",
    "image_files = [os.path.join(image_dir, f) for f in os.listdir(image_dir) if f.endswith('.jpg') or f.endswith('.png')]\n",
    "\n",
    "# Display each image and allow the user to select a region to crop\n",
    "for image_file in image_files:\n",
    "    image = cv2.imread(image_file)\n",
    "    image = cv2.resize(image, (700, 700))\n",
    "    clone = image.copy()\n",
    "    cv2.namedWindow(\"Crop Image\")\n",
    "    cv2.setMouseCallback(\"Crop Image\", crop_img)\n",
    "    \n",
    "    while True:\n",
    "        cv2.imshow(\"Crop Image\", image)\n",
    "        key = cv2.waitKey(1)\n",
    "        \n",
    "        if key == ord(\"s\"):\n",
    "            count += 1\n",
    "            cv2.imwrite(os.path.join(output_dir, \"origenal_{}.jpg\".format(count)), image)\n",
    "            cv2.imwrite(os.path.join(output_dir, \"croped_{}.jpg\".format(count)), crop_img)\n",
    "            break\n",
    "        \n",
    "        elif key == ord(\"q\") or key == 27: \n",
    "            break\n",
    "        \n",
    "    cv2.destroyAllWindows()\n"
   ]
  },
  {
   "cell_type": "code",
   "execution_count": null,
   "id": "6216f086",
   "metadata": {},
   "outputs": [],
   "source": []
  }
 ],
 "metadata": {
  "kernelspec": {
   "display_name": "Python 3 (ipykernel)",
   "language": "python",
   "name": "python3"
  },
  "language_info": {
   "codemirror_mode": {
    "name": "ipython",
    "version": 3
   },
   "file_extension": ".py",
   "mimetype": "text/x-python",
   "name": "python",
   "nbconvert_exporter": "python",
   "pygments_lexer": "ipython3",
   "version": "3.10.7"
  },
  "varInspector": {
   "cols": {
    "lenName": 16,
    "lenType": 16,
    "lenVar": 40
   },
   "kernels_config": {
    "python": {
     "delete_cmd_postfix": "",
     "delete_cmd_prefix": "del ",
     "library": "var_list.py",
     "varRefreshCmd": "print(var_dic_list())"
    },
    "r": {
     "delete_cmd_postfix": ") ",
     "delete_cmd_prefix": "rm(",
     "library": "var_list.r",
     "varRefreshCmd": "cat(var_dic_list()) "
    }
   },
   "types_to_exclude": [
    "module",
    "function",
    "builtin_function_or_method",
    "instance",
    "_Feature"
   ],
   "window_display": false
  }
 },
 "nbformat": 4,
 "nbformat_minor": 5
}
