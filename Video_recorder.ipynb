{
 "cells": [
  {
   "cell_type": "code",
   "execution_count": 1,
   "id": "fd40c260",
   "metadata": {},
   "outputs": [
    {
     "name": "stdout",
     "output_type": "stream",
     "text": [
      "Recording started!\n",
      "Recording stopped!\n"
     ]
    }
   ],
   "source": [
    "import cv2\n",
    "\n",
    "cap = cv2.VideoCapture(0)\n",
    "fourcc = cv2.VideoWriter_fourcc(*\"MP4V\")\n",
    "out = None\n",
    "recording = False\n",
    "\n",
    "while True:\n",
    "    ret, frame = cap.read()\n",
    "        \n",
    "    cv2.imshow(\"Recording\", frame)\n",
    "    key = cv2.waitKey(1)\n",
    "    # Start recording\n",
    "    if key == ord(\"s\") and not recording:\n",
    "        print(\"Recording started!\")\n",
    "        out = cv2.VideoWriter(\"output.mp4\", fourcc, 20.0, (640, 480))\n",
    "        recording = True\n",
    "    # Continueing  \n",
    "    if recording:\n",
    "        out.write(frame)\n",
    "    # Stop recording    \n",
    "    if key == ord(\"e\") and recording:\n",
    "        print(\"Recording stopped!\")\n",
    "        out.release()\n",
    "        recording = False\n",
    "        break\n",
    "    # Exit without recording    \n",
    "    if key == ord(\"q\"):\n",
    "        print(\"You are out without recording video\")\n",
    "        break\n",
    "\n",
    "cap.release()\n",
    "cv2.destroyAllWindows()\n"
   ]
  },
  {
   "cell_type": "code",
   "execution_count": null,
   "id": "9bf44e3d",
   "metadata": {},
   "outputs": [],
   "source": []
  }
 ],
 "metadata": {
  "kernelspec": {
   "display_name": "Python 3 (ipykernel)",
   "language": "python",
   "name": "python3"
  },
  "language_info": {
   "codemirror_mode": {
    "name": "ipython",
    "version": 3
   },
   "file_extension": ".py",
   "mimetype": "text/x-python",
   "name": "python",
   "nbconvert_exporter": "python",
   "pygments_lexer": "ipython3",
   "version": "3.10.7"
  },
  "varInspector": {
   "cols": {
    "lenName": 16,
    "lenType": 16,
    "lenVar": 40
   },
   "kernels_config": {
    "python": {
     "delete_cmd_postfix": "",
     "delete_cmd_prefix": "del ",
     "library": "var_list.py",
     "varRefreshCmd": "print(var_dic_list())"
    },
    "r": {
     "delete_cmd_postfix": ") ",
     "delete_cmd_prefix": "rm(",
     "library": "var_list.r",
     "varRefreshCmd": "cat(var_dic_list()) "
    }
   },
   "types_to_exclude": [
    "module",
    "function",
    "builtin_function_or_method",
    "instance",
    "_Feature"
   ],
   "window_display": false
  }
 },
 "nbformat": 4,
 "nbformat_minor": 5
}
