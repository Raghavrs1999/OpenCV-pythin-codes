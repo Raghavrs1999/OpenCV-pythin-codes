{
 "cells": [
  {
   "cell_type": "markdown",
   "id": "2acaea9f",
   "metadata": {},
   "source": [
    "Haarcascade algo"
   ]
  },
  {
   "cell_type": "code",
   "execution_count": 1,
   "id": "437ec37e",
   "metadata": {},
   "outputs": [],
   "source": [
    "import cv2\n",
    "import os\n",
    "\n",
    "face_cascade = cv2.CascadeClassifier(\"haarcascade_frontalface_default.xml\")\n",
    "cap = cv2.VideoCapture(0)\n",
    "\n",
    "if not os.path.exists(\"detected_faces\"):\n",
    "    os.makedirs(\"detected_faces\")\n",
    "\n",
    "count = 0\n",
    "while True:\n",
    "    _, frame = cap.read()\n",
    "    gray = cv2.cvtColor(frame, cv2.COLOR_BGR2GRAY)\n",
    "    faces = face_cascade.detectMultiScale(gray, scaleFactor=1.1, minNeighbors=5)\n",
    "    frame_copy = frame\n",
    "    \n",
    "    for (x, y, w, h) in faces:\n",
    "        cv2.rectangle(frame, (x, y), (x + w, y + h), (150, 170, 150), 2)\n",
    "\n",
    "    cv2.imshow(\"Face Detection\", frame)\n",
    "    key = cv2.waitKey(1)\n",
    "    if key == ord(\"q\") or key == 27 :\n",
    "        break\n",
    "    elif key == ord(\"s\"):\n",
    "        count += 1\n",
    "        #face = frame[y:y+h, x:x+w]\n",
    "        cv2.imwrite(f\"detected_faces/face_{count}.jpg\", face)\n",
    "        print(f\"Image saved with name 'detected_faces/face_{count}.jpg'\")\n",
    "cap.release()\n",
    "cv2.destroyAllWindows()\n",
    "    "
   ]
  },
  {
   "cell_type": "markdown",
   "id": "a6023e21",
   "metadata": {},
   "source": [
    "Mediapipe "
   ]
  },
  {
   "cell_type": "code",
   "execution_count": 4,
   "id": "d4a945ca",
   "metadata": {},
   "outputs": [],
   "source": [
    "import cv2\n",
    "import os\n",
    "import mediapipe as mp\n",
    "\n",
    "mp_face_detection = mp.solutions.face_detection\n",
    "\n",
    "cap = cv2.VideoCapture(0)\n",
    "\n",
    "if not os.path.exists(\"detected_faces\"):\n",
    "    os.makedirs(\"detected_faces\")\n",
    "\n",
    "count = 0\n",
    "    \n",
    "# Initiate mediapipe face detection\n",
    "with mp_face_detection.FaceDetection(min_detection_confidence=0.2) as face_detection:\n",
    "    while True:\n",
    "        # Read a frame from the camera\n",
    "        ret, frame = cap.read()\n",
    "\n",
    "        # Convert the image to RGB\n",
    "        frame = cv2.cvtColor(frame, cv2.COLOR_BGR2RGB)\n",
    "\n",
    "        # Process the image with mediapipe\n",
    "        results = face_detection.process(frame)\n",
    "\n",
    "        # Draw face detection landmarks on the frame\n",
    "        if results.detections:\n",
    "            for detection in results.detections:\n",
    "                # Get the bounding box of the face\n",
    "                bbox = detection.location_data.relative_bounding_box\n",
    "                h, w, c = frame.shape\n",
    "                bbox_x = int(bbox.xmin * w)\n",
    "                bbox_y = int(bbox.ymin * h)\n",
    "                bbox_w = int(bbox.width * w)\n",
    "                bbox_h = int(bbox.height * h)\n",
    "\n",
    "                # Draw the bounding box on the frame\n",
    "                cv2.rectangle(frame, (bbox_x, bbox_y), (bbox_x + bbox_w, bbox_y + bbox_h), (150, 170, 150), 2)\n",
    "\n",
    "        # Show the processed image\n",
    "        frame = cv2.cvtColor(frame, cv2.COLOR_RGB2BGR)\n",
    "        cv2.imshow('frame', frame)\n",
    "\n",
    "        # Exit on 'q' key 'esc'\n",
    "        key = cv2.waitKey(1)\n",
    "        if key == ord(\"q\") or key == 27 :\n",
    "            break\n",
    "            \n",
    "        elif key == ord(\"s\"):\n",
    "            count += 1\n",
    "            #face = frame[y:y+h, x:x+w]\n",
    "            cv2.imwrite(f\"detected_faces/face_{count}.jpg\", frame)\n",
    "            print(f\"Image saved with name 'detected_faces/face_{count}.jpg'\")\n",
    "        \n",
    "# Release the video capture\n",
    "cap.release()\n",
    "\n",
    "# Close the window\n",
    "cv2.destroyAllWindows()"
   ]
  }
 ],
 "metadata": {
  "kernelspec": {
   "display_name": "Python 3 (ipykernel)",
   "language": "python",
   "name": "python3"
  },
  "language_info": {
   "codemirror_mode": {
    "name": "ipython",
    "version": 3
   },
   "file_extension": ".py",
   "mimetype": "text/x-python",
   "name": "python",
   "nbconvert_exporter": "python",
   "pygments_lexer": "ipython3",
   "version": "3.10.7"
  },
  "varInspector": {
   "cols": {
    "lenName": 16,
    "lenType": 16,
    "lenVar": 40
   },
   "kernels_config": {
    "python": {
     "delete_cmd_postfix": "",
     "delete_cmd_prefix": "del ",
     "library": "var_list.py",
     "varRefreshCmd": "print(var_dic_list())"
    },
    "r": {
     "delete_cmd_postfix": ") ",
     "delete_cmd_prefix": "rm(",
     "library": "var_list.r",
     "varRefreshCmd": "cat(var_dic_list()) "
    }
   },
   "types_to_exclude": [
    "module",
    "function",
    "builtin_function_or_method",
    "instance",
    "_Feature"
   ],
   "window_display": false
  }
 },
 "nbformat": 4,
 "nbformat_minor": 5
}
