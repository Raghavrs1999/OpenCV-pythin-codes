{
 "cells": [
  {
   "cell_type": "code",
   "execution_count": 2,
   "id": "cb339ece",
   "metadata": {},
   "outputs": [],
   "source": [
    "import cv2\n",
    "import os\n",
    "\n",
    "if not os.path.exists(\"Edge_Detection\"):\n",
    "    os.makedirs(\"Edge_Detection\")\n",
    "\n",
    "count = 0\n",
    "\n",
    "img = cv2.imread(\"image.jpg\")\n",
    "gray = cv2.cvtColor(img, cv2.COLOR_BGR2GRAY)\n",
    "\n",
    "sobel_x_kernel = 7\n",
    "sobel_y_kernel = 1\n",
    "\n",
    "while True:\n",
    "    sobel_x = cv2.Sobel(gray, cv2.CV_64F, 1, 0, ksize=sobel_x_kernel)\n",
    "    sobel_y = cv2.Sobel(gray, cv2.CV_64F, 0, 1, ksize=sobel_y_kernel)\n",
    "\n",
    "    edge_detected_image = cv2.addWeighted(sobel_x, 0.5, sobel_y, 0.5, 0)\n",
    "\n",
    "    edge_detected_image = cv2.resize(edge_detected_image, (750, 750))\n",
    "\n",
    "    cv2.imshow(\"Edge Detection\", edge_detected_image)\n",
    "\n",
    "    key = cv2.waitKey(1)\n",
    "\n",
    "    if key == ord(\"+\"): \n",
    "        sobel_x_kernel += 2\n",
    "        sobel_y_kernel += 2\n",
    "        print(f\"Sobel kernel size increased to {sobel_x_kernel}x{sobel_y_kernel}\")\n",
    "\n",
    "    elif key == ord(\"-\"): \n",
    "        sobel_x_kernel -= 2\n",
    "        sobel_y_kernel -= 2\n",
    "        if sobel_x_kernel < 1:\n",
    "            sobel_x_kernel = 1\n",
    "        if sobel_y_kernel < 1:\n",
    "            sobel_y_kernel = 1\n",
    "        print(f\"Sobel kernel size decreased to {sobel_x_kernel}x{sobel_y_kernel}\")\n",
    "\n",
    "    elif key == ord(\"s\"):\n",
    "        count += 1\n",
    "        cv2.imwrite(f\"Edge_Detection/detected_{count}.jpg\", edge_detected_image)\n",
    "        print(f\"Image saved with name 'detected_{count}.jpg'\")\n",
    "\n",
    "    elif key == ord(\"q\") or key == 27:\n",
    "        cv2.destroyAllWindows()\n",
    "        break\n"
   ]
  },
  {
   "cell_type": "markdown",
   "id": "12789a59",
   "metadata": {},
   "source": [
    "Canny edge detection"
   ]
  },
  {
   "cell_type": "code",
   "execution_count": 4,
   "id": "e57d85c6",
   "metadata": {},
   "outputs": [],
   "source": [
    "import cv2\n",
    "import os\n",
    "\n",
    "if not os.path.exists(\"Edge_Detection\"):\n",
    "    os.makedirs(\"Edge_Detection\")\n",
    "\n",
    "count = 0\n",
    "img = cv2.imread(\"image.jpg\")\n",
    "\n",
    "img = cv2.resize(img, (750, 750))\n",
    "lower_threshold = 50\n",
    "upper_threshold = 150\n",
    "image = cv2.Canny(img, lower_threshold, upper_threshold)\n",
    "cv2.imshow(\"Canny\", image)\n",
    "while True:\n",
    "    key = cv2.waitKey(1)\n",
    "    if key == ord(\"+\"):\n",
    "        lower_threshold += 10\n",
    "        upper_threshold += 10\n",
    "        image = cv2.Canny(img, lower_threshold, upper_threshold)\n",
    "        print(f\"Threshold values increased to {lower_threshold}, {upper_threshold}\")\n",
    "        cv2.imshow(\"Canny\", image)\n",
    "        \n",
    "    elif key == ord(\"-\"):\n",
    "        lower_threshold -= 10\n",
    "        upper_threshold -= 10\n",
    "        if lower_threshold < 0:\n",
    "            lower_threshold = 0\n",
    "        if upper_threshold < 0:\n",
    "            upper_threshold = 0\n",
    "        image = cv2.Canny(img, lower_threshold, upper_threshold)\n",
    "        print(f\"Threshold values decreased to {lower_threshold}, {upper_threshold}\")\n",
    "        cv2.imshow(\"Canny\", image)\n",
    "    \n",
    "    elif key == ord(\"s\"):\n",
    "        count += 1\n",
    "        cv2.imwrite(f\"Edge_Detection/Canny_{count}.jpg\", image)\n",
    "        print(f\"Image saved with name 'Canny_{count}.jpg'\") \n",
    "    \n",
    "    elif key == ord(\"q\") or key == 27 :\n",
    "        cv2.destroyAllWindows()\n",
    "        break\n"
   ]
  },
  {
   "cell_type": "code",
   "execution_count": null,
   "id": "96304566",
   "metadata": {},
   "outputs": [],
   "source": []
  }
 ],
 "metadata": {
  "kernelspec": {
   "display_name": "Python 3 (ipykernel)",
   "language": "python",
   "name": "python3"
  },
  "language_info": {
   "codemirror_mode": {
    "name": "ipython",
    "version": 3
   },
   "file_extension": ".py",
   "mimetype": "text/x-python",
   "name": "python",
   "nbconvert_exporter": "python",
   "pygments_lexer": "ipython3",
   "version": "3.10.7"
  },
  "varInspector": {
   "cols": {
    "lenName": 16,
    "lenType": 16,
    "lenVar": 40
   },
   "kernels_config": {
    "python": {
     "delete_cmd_postfix": "",
     "delete_cmd_prefix": "del ",
     "library": "var_list.py",
     "varRefreshCmd": "print(var_dic_list())"
    },
    "r": {
     "delete_cmd_postfix": ") ",
     "delete_cmd_prefix": "rm(",
     "library": "var_list.r",
     "varRefreshCmd": "cat(var_dic_list()) "
    }
   },
   "types_to_exclude": [
    "module",
    "function",
    "builtin_function_or_method",
    "instance",
    "_Feature"
   ],
   "window_display": false
  }
 },
 "nbformat": 4,
 "nbformat_minor": 5
}
