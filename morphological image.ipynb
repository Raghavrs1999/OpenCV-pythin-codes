{
 "cells": [
  {
   "cell_type": "markdown",
   "id": "99cdd490",
   "metadata": {},
   "source": [
    "Select the region in it"
   ]
  },
  {
   "cell_type": "code",
   "execution_count": 1,
   "id": "594183e7",
   "metadata": {},
   "outputs": [],
   "source": [
    "import cv2\n",
    "import numpy as np\n",
    "\n",
    "cap = cv2.VideoCapture(0)\n",
    "while True:\n",
    "    _, img = cap.read()\n",
    "    roi = cv2.selectROI(\"ORIGENAL\", img, False, False)\n",
    "    cv2.destroyAllWindows()\n",
    "    break\n",
    "while True:\n",
    "    _, frame = cap.read()\n",
    "    \n",
    "    image = frame[int(roi[1]):int(roi[1] + roi[3]), (roi[0]):int(roi[0] + roi[2])]\n",
    "    image = cv2.cvtColor(image, cv2.COLOR_BGR2GRAY)\n",
    "    image = cv2.GaussianBlur(image, (7, 7), 0)\n",
    "    image = cv2.Canny(image, 10, 70)\n",
    "    _, image = cv2.threshold(image, 50, 255, cv2.THRESH_BINARY_INV)\n",
    "    \n",
    "    image = cv2.cvtColor(image, cv2.COLOR_GRAY2BGR)\n",
    "    frame[int(roi[1]):int(roi[1] + roi[3]), int(roi[0]):int(roi[0] + roi[2])] = image\n",
    "    \n",
    "    cv2.imshow(\"SKETCH\", frame)\n",
    "    key = cv2.waitKey(1)\n",
    "    if key == ord('q') or key == 27:\n",
    "        break\n",
    "cap.release()\n",
    "cv2.destroyAllWindows()"
   ]
  },
  {
   "cell_type": "code",
   "execution_count": 2,
   "id": "70083b6b",
   "metadata": {},
   "outputs": [],
   "source": [
    "import cv2\n",
    "import os\n",
    "import numpy as np\n",
    "\n",
    "def nothing(x):\n",
    "    pass\n",
    "if not os.path.exists(\"morphological_image\"):\n",
    "    os.makedirs(\"morphological_image\")\n",
    "count = 0\n",
    "    \n",
    "cap = cv2.VideoCapture(0)\n",
    "cv2.namedWindow('Sketch')\n",
    "\n",
    "cv2.createTrackbar('LTC', 'Sketch', 0, 255, nothing)\n",
    "cv2.createTrackbar('UTC', 'Sketch', 0, 255, nothing)\n",
    "\n",
    "while True:\n",
    "    _, frame = cap.read()\n",
    "    image = cv2.cvtColor(frame, cv2.COLOR_BGR2GRAY)\n",
    "    image = cv2.GaussianBlur(image,(7, 7), 0)\n",
    "    ltc = cv2.getTrackbarPos('LTC', 'Sketch')\n",
    "    utc = cv2.getTrackbarPos('UTC', 'Sketch')\n",
    "    \n",
    "    image = cv2.Canny(image, ltc, utc)\n",
    "    _, image = cv2.threshold(image, 10, 255, cv2.THRESH_BINARY_INV)\n",
    "    \n",
    "    cv2.imshow('Origenal', frame)\n",
    "    cv2.imshow('Sketch', image)\n",
    "    \n",
    "    key = cv2.waitKey(1)\n",
    "    if key == ord(\"s\"):\n",
    "        count += 1\n",
    "        cv2.imwrite(f\"morphological_image/origenal_{count}.jpg\", frame)\n",
    "        cv2.imwrite(f\"morphological_image/Sketch_{count}.jpg\", image)\n",
    "        print(f\"Image saved with name 'morphological_image/origenal_{count}.jpg' \\nImage saved with name 'morphological_image/Sketch_{count}.jpg'\")\n",
    "    if key == ord('q') or key == 27:\n",
    "        break\n",
    "cap.release()\n",
    "cv2.destroyAllWindows()\n"
   ]
  },
  {
   "cell_type": "code",
   "execution_count": 1,
   "id": "ae23f625",
   "metadata": {},
   "outputs": [
    {
     "ename": "error",
     "evalue": "OpenCV(4.7.0) D:\\a\\opencv-python\\opencv-python\\opencv\\modules\\imgproc\\src\\color.cpp:182: error: (-215:Assertion failed) !_src.empty() in function 'cv::cvtColor'\n",
     "output_type": "error",
     "traceback": [
      "\u001b[1;31m---------------------------------------------------------------------------\u001b[0m",
      "\u001b[1;31merror\u001b[0m                                     Traceback (most recent call last)",
      "Cell \u001b[1;32mIn[1], line 18\u001b[0m\n\u001b[0;32m     15\u001b[0m _, frame \u001b[38;5;241m=\u001b[39m cap\u001b[38;5;241m.\u001b[39mread()\n\u001b[0;32m     17\u001b[0m image \u001b[38;5;241m=\u001b[39m frame[\u001b[38;5;28mint\u001b[39m(roi[\u001b[38;5;241m1\u001b[39m]):\u001b[38;5;28mint\u001b[39m(roi[\u001b[38;5;241m1\u001b[39m] \u001b[38;5;241m+\u001b[39m roi[\u001b[38;5;241m3\u001b[39m]), (roi[\u001b[38;5;241m0\u001b[39m]):\u001b[38;5;28mint\u001b[39m(roi[\u001b[38;5;241m0\u001b[39m] \u001b[38;5;241m+\u001b[39m roi[\u001b[38;5;241m2\u001b[39m])]\n\u001b[1;32m---> 18\u001b[0m image \u001b[38;5;241m=\u001b[39m \u001b[43mcv2\u001b[49m\u001b[38;5;241;43m.\u001b[39;49m\u001b[43mcvtColor\u001b[49m\u001b[43m(\u001b[49m\u001b[43mimage\u001b[49m\u001b[43m,\u001b[49m\u001b[43m \u001b[49m\u001b[43mcv2\u001b[49m\u001b[38;5;241;43m.\u001b[39;49m\u001b[43mCOLOR_BGR2GRAY\u001b[49m\u001b[43m)\u001b[49m\n\u001b[0;32m     19\u001b[0m image \u001b[38;5;241m=\u001b[39m cv2\u001b[38;5;241m.\u001b[39mGaussianBlur(image, (\u001b[38;5;241m7\u001b[39m, \u001b[38;5;241m7\u001b[39m), \u001b[38;5;241m0\u001b[39m)\n\u001b[0;32m     20\u001b[0m image \u001b[38;5;241m=\u001b[39m cv2\u001b[38;5;241m.\u001b[39mCanny(image, \u001b[38;5;241m10\u001b[39m, \u001b[38;5;241m70\u001b[39m)\n",
      "\u001b[1;31merror\u001b[0m: OpenCV(4.7.0) D:\\a\\opencv-python\\opencv-python\\opencv\\modules\\imgproc\\src\\color.cpp:182: error: (-215:Assertion failed) !_src.empty() in function 'cv::cvtColor'\n"
     ]
    }
   ],
   "source": [
    "import cv2\n",
    "import numpy as np\n",
    "\n",
    "cap = cv2.VideoCapture(0)\n",
    "\n",
    "while True:\n",
    "    _, img = cap.read()\n",
    "    roi = cv2.selectROI(\"ORIGENAL\", img, False, False)\n",
    "    key = cv2.waitKey(1) # Check for a key press event\n",
    "    if key == ord('q') or key == 27:\n",
    "        break # Exit the loop if 'q' or 'Esc' is pressed\n",
    "    cv2.destroyAllWindows()\n",
    "\n",
    "while True:\n",
    "    _, frame = cap.read()\n",
    "    \n",
    "    image = frame[int(roi[1]):int(roi[1] + roi[3]), (roi[0]):int(roi[0] + roi[2])]\n",
    "    image = cv2.cvtColor(image, cv2.COLOR_BGR2GRAY)\n",
    "    image = cv2.GaussianBlur(image, (7, 7), 0)\n",
    "    image = cv2.Canny(image, 10, 70)\n",
    "    _, image = cv2.threshold(image, 50, 255, cv2.THRESH_BINARY_INV)\n",
    "    \n",
    "    image = cv2.cvtColor(image, cv2.COLOR_GRAY2BGR)\n",
    "    frame[int(roi[1]):int(roi[1] + roi[3]), int(roi[0]):int(roi[0] + roi[2])] = image\n",
    "    \n",
    "    cv2.imshow(\"SKETCH\", frame)\n",
    "    key = cv2.waitKey(1)\n",
    "    if key == ord('q') or key == 27:\n",
    "        break\n",
    "\n",
    "cap.release()\n",
    "cv2.destroyAllWindows()\n"
   ]
  },
  {
   "cell_type": "code",
   "execution_count": null,
   "id": "9f8a973c",
   "metadata": {},
   "outputs": [],
   "source": []
  }
 ],
 "metadata": {
  "kernelspec": {
   "display_name": "Python 3 (ipykernel)",
   "language": "python",
   "name": "python3"
  },
  "language_info": {
   "codemirror_mode": {
    "name": "ipython",
    "version": 3
   },
   "file_extension": ".py",
   "mimetype": "text/x-python",
   "name": "python",
   "nbconvert_exporter": "python",
   "pygments_lexer": "ipython3",
   "version": "3.10.7"
  },
  "varInspector": {
   "cols": {
    "lenName": 16,
    "lenType": 16,
    "lenVar": 40
   },
   "kernels_config": {
    "python": {
     "delete_cmd_postfix": "",
     "delete_cmd_prefix": "del ",
     "library": "var_list.py",
     "varRefreshCmd": "print(var_dic_list())"
    },
    "r": {
     "delete_cmd_postfix": ") ",
     "delete_cmd_prefix": "rm(",
     "library": "var_list.r",
     "varRefreshCmd": "cat(var_dic_list()) "
    }
   },
   "types_to_exclude": [
    "module",
    "function",
    "builtin_function_or_method",
    "instance",
    "_Feature"
   ],
   "window_display": false
  }
 },
 "nbformat": 4,
 "nbformat_minor": 5
}
