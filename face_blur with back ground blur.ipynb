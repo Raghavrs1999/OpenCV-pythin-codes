{
 "cells": [
  {
   "cell_type": "markdown",
   "id": "deaa54ed",
   "metadata": {},
   "source": [
    "face blur by haarcascade"
   ]
  },
  {
   "cell_type": "code",
   "execution_count": 1,
   "id": "3003e9c2",
   "metadata": {},
   "outputs": [],
   "source": [
    "# blur thr face\n",
    "\n",
    "import cv2\n",
    "import numpy as np\n",
    "\n",
    "face_cascade = cv2.CascadeClassifier(\"haarcascade_frontalface_default.xml\")\n",
    "cap = cv2.VideoCapture(0)\n",
    "\n",
    "while True:\n",
    "    _, frame = cap.read()\n",
    "    gray = cv2.cvtColor(frame, cv2.COLOR_BGR2GRAY)\n",
    "    faces = face_cascade.detectMultiScale(gray, scaleFactor=1.5, minNeighbors=5)\n",
    "\n",
    "    for (x, y, w, h) in faces:\n",
    "        face = frame[y:y+h, x:x+w]\n",
    "        face = cv2.GaussianBlur(face, (105,105), 0)\n",
    "        frame[y:y+h, x:x+w] = face\n",
    "\n",
    "    cv2.imshow(\"Blurred Face\", frame)\n",
    "    key = cv2.waitKey(1)\n",
    "    if key == ord(\"q\") or key == 27:\n",
    "        break\n",
    "        \n",
    "cap.release()\n",
    "cv2.destroyAllWindows()"
   ]
  },
  {
   "cell_type": "markdown",
   "id": "a282426d",
   "metadata": {},
   "source": [
    "Face blur by mediapipe"
   ]
  },
  {
   "cell_type": "code",
   "execution_count": 2,
   "id": "68f4a4ac",
   "metadata": {},
   "outputs": [
    {
     "name": "stderr",
     "output_type": "stream",
     "text": [
      "Using TensorFlow backend.\n"
     ]
    }
   ],
   "source": [
    "import cv2\n",
    "import mediapipe as mp\n",
    "\n",
    "mp_face_detection = mp.solutions.face_detection\n",
    "\n",
    "cap = cv2.VideoCapture(0)\n",
    "\n",
    "    \n",
    "# Initiate mediapipe face detection\n",
    "with mp_face_detection.FaceDetection(min_detection_confidence=0.2) as face_detection:\n",
    "    while True:\n",
    "        # Read a frame from the camera\n",
    "        ret, frame = cap.read()\n",
    "\n",
    "        # Convert the image to RGB\n",
    "        frame = cv2.cvtColor(frame, cv2.COLOR_BGR2RGB)\n",
    "\n",
    "        # Process the image with mediapipe\n",
    "        results = face_detection.process(frame)\n",
    "\n",
    "        # Draw face detection landmarks on the frame\n",
    "        if results.detections:\n",
    "            for detection in results.detections:\n",
    "                # Get the bounding box of the face\n",
    "                bbox = detection.location_data.relative_bounding_box\n",
    "                h, w, c = frame.shape\n",
    "                bbox_x = int(bbox.xmin * w)\n",
    "                bbox_y = int(bbox.ymin * h)\n",
    "                bbox_w = int(bbox.width * w)\n",
    "                bbox_h = int(bbox.height * h)\n",
    "\n",
    "                # Draw the bounding box on the frame\n",
    "                cv2.rectangle(frame, (bbox_x, bbox_y), (bbox_x + bbox_w, bbox_y + bbox_h), (150, 170, 150), 2)\n",
    "\n",
    "                # Apply Gaussian blur to the face\n",
    "                face = frame[bbox_y:bbox_y+bbox_h, bbox_x:bbox_x+bbox_w]\n",
    "                face = cv2.GaussianBlur(face, (105, 105), 0)\n",
    "                frame[bbox_y:bbox_y+bbox_h, bbox_x:bbox_x+bbox_w] = face\n",
    "\n",
    "        # Show the processed image\n",
    "        frame = cv2.cvtColor(frame, cv2.COLOR_RGB2BGR)\n",
    "        cv2.imshow('frame', frame)\n",
    "\n",
    "        # Exit on 'q' key 'esc'\n",
    "        key = cv2.waitKey(1)\n",
    "        if key == ord(\"q\") or key == 27 :\n",
    "            break\n",
    "\n",
    "# Release the video capture\n",
    "cap.release()\n",
    "\n",
    "# Close the window\n",
    "cv2.destroyAllWindows()"
   ]
  },
  {
   "cell_type": "markdown",
   "id": "d76779ac",
   "metadata": {},
   "source": [
    "Background blur"
   ]
  },
  {
   "cell_type": "code",
   "execution_count": 3,
   "id": "bd0b7c52",
   "metadata": {},
   "outputs": [],
   "source": [
    "import cv2\n",
    "import mediapipe as mp\n",
    "import numpy as np\n",
    "\n",
    "mp_selfie_segmentation = mp.solutions.selfie_segmentation\n",
    "\n",
    "cap = cv2.VideoCapture(0)\n",
    "\n",
    "# Initiate mediapipe selfie segmentation\n",
    "with mp_selfie_segmentation.SelfieSegmentation(model_selection=1) as selfie_segmentation:\n",
    "    while True:\n",
    "        # Read a frame from the camera\n",
    "        ret, frame = cap.read()\n",
    "        \n",
    "        # Calculate the fps\n",
    "        #curr_time = time.time()\n",
    "        #fps = 1 / (curr_time - prev_time)\n",
    "        #prev_time = curr_time\n",
    "\n",
    "        # Convert the image to RGB\n",
    "        frame = cv2.cvtColor(frame, cv2.COLOR_BGR2RGB)\n",
    "\n",
    "        # Process the image with mediapipe selfie segmentation\n",
    "        frame.flags.writeable = False\n",
    "        results = selfie_segmentation.process(frame)\n",
    "        frame.flags.writeable = True\n",
    "\n",
    "        # Create a mask for the segmented image\n",
    "        condition = np.stack((results.segmentation_mask,)*3, axis=-1) > 0.1\n",
    "\n",
    "        # Apply Gaussian blur to the background image\n",
    "        bg_image = cv2.GaussianBlur(frame, (55, 55), 0)\n",
    "\n",
    "        # Create the final image by blending the original and blurred images\n",
    "        image = np.where(condition, frame, bg_image)\n",
    "\n",
    "        # Convert the image back to BGR for display\n",
    "        image = cv2.cvtColor(image, cv2.COLOR_RGB2BGR)\n",
    "\n",
    "        # Show the processed image\n",
    "        #cv2.putText(image, f\"FPS: {int(fps)}\", (10, 50), cv2.FONT_HERSHEY_SIMPLEX, 1, (0, 255, 0), 2)\n",
    "        cv2.imshow('image', image)\n",
    "\n",
    "        # Exit on 'q' key or 'esc' key\n",
    "        key = cv2.waitKey(1)\n",
    "        if key == ord(\"q\") or key == 27 :\n",
    "            break\n",
    "\n",
    "# Release the video capture\n",
    "cap.release()\n",
    "\n",
    "# Close the window\n",
    "cv2.destroyAllWindows()\n"
   ]
  },
  {
   "cell_type": "code",
   "execution_count": null,
   "id": "29d0fc18",
   "metadata": {},
   "outputs": [],
   "source": []
  }
 ],
 "metadata": {
  "kernelspec": {
   "display_name": "Python 3 (ipykernel)",
   "language": "python",
   "name": "python3"
  },
  "language_info": {
   "codemirror_mode": {
    "name": "ipython",
    "version": 3
   },
   "file_extension": ".py",
   "mimetype": "text/x-python",
   "name": "python",
   "nbconvert_exporter": "python",
   "pygments_lexer": "ipython3",
   "version": "3.10.7"
  },
  "varInspector": {
   "cols": {
    "lenName": 16,
    "lenType": 16,
    "lenVar": 40
   },
   "kernels_config": {
    "python": {
     "delete_cmd_postfix": "",
     "delete_cmd_prefix": "del ",
     "library": "var_list.py",
     "varRefreshCmd": "print(var_dic_list())"
    },
    "r": {
     "delete_cmd_postfix": ") ",
     "delete_cmd_prefix": "rm(",
     "library": "var_list.r",
     "varRefreshCmd": "cat(var_dic_list()) "
    }
   },
   "types_to_exclude": [
    "module",
    "function",
    "builtin_function_or_method",
    "instance",
    "_Feature"
   ],
   "window_display": false
  }
 },
 "nbformat": 4,
 "nbformat_minor": 5
}
