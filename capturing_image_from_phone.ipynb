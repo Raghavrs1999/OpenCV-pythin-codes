{
 "cells": [
  {
   "cell_type": "markdown",
   "id": "b5364663",
   "metadata": {},
   "source": [
    "Download IP Webcam from playstore for mobile streaming"
   ]
  },
  {
   "cell_type": "code",
   "execution_count": 10,
   "id": "cbcf2e4a",
   "metadata": {
    "scrolled": true
   },
   "outputs": [
    {
     "name": "stdout",
     "output_type": "stream",
     "text": [
      "If you are not having the ip address, you can type: 0 \n"
     ]
    }
   ],
   "source": [
    "import cv2\n",
    "\n",
    "print(\"If you are not having the ip address, you can type: 0 \")\n",
    "ip = input(\"Enter the ip address of the phone: \")\n",
    "\n",
    "if ip == \"0\":\n",
    "    image = cv2.VideoCapture(0)\n",
    "else:\n",
    "    image = cv2.VideoCapture(f\"{ip}\")\n",
    "    #image = cv2.VideoCapture(\"{}\".format(ip))\n",
    "\n",
    "fourcc_code = cv2.VideoWriter_fourcc(*\"MP4V\")\n",
    "video = cv2.VideoWriter(\"video.mp4\", fourcc_code,20.0, (640, 480))\n",
    "\n",
    "while True:\n",
    "    _, frame = image.read()\n",
    "    video.write(frame)\n",
    "    cv2.imshow(\"Frame\", frame)\n",
    "    #if video is not recorded uncomment the below line and see the shape of a frame and overwrite (1920, 1080) to your shape\n",
    "    #print(frame.shape)\n",
    "    key = cv2.waitKey(10)\n",
    "    if key == ord(\"q\") or key == 27:\n",
    "        break\n",
    "        \n",
    "video.release()\n",
    "image.release()\n",
    "cv2.destroyAllWindows()"
   ]
  },
  {
   "cell_type": "markdown",
   "id": "6c1fe18d",
   "metadata": {},
   "source": [
    "http://26.216.154.46:8080/video"
   ]
  },
  {
   "cell_type": "markdown",
   "id": "3b04b6d6",
   "metadata": {},
   "source": [
    "http://192.168.29.170:8080/video"
   ]
  },
  {
   "cell_type": "code",
   "execution_count": null,
   "id": "d761e62b",
   "metadata": {},
   "outputs": [],
   "source": [
    "import cv2\n",
    "\n",
    "print(\"If you are not having the ip address, you can type: 0 \")\n",
    "ip = input(\"Enter the ip address of the phone: \")\n",
    "cam_list=[1,2,3,4,5,6,7,8,9]\n",
    "for i\n",
    "if ip == \"0\":\n",
    "    image = cv2.VideoCapture(0)\n",
    "else:\n",
    "    image = cv2.VideoCapture(f\"{ip}\")\n",
    "    #image = cv2.VideoCapture(\"{}\".format(ip))\n",
    "\n",
    "fourcc_code = cv2.VideoWriter_fourcc(*\"MP4V\")\n",
    "video = cv2.VideoWriter(\"video.mp4\", fourcc_code,20.0, (640, 480))\n",
    "\n",
    "while True:\n",
    "    _, frame = image.read()\n",
    "    video.write(frame)\n",
    "    cv2.imshow(\"Frame\", frame)\n",
    "    #if video is not recorded uncomment the below line and see the shape of a frame and overwrite (1920, 1080) to your shape\n",
    "    #print(frame.shape)\n",
    "    key = cv2.waitKey(10)\n",
    "    if key == ord(\"q\") or key == 27:\n",
    "        break\n",
    "        \n",
    "video.release()\n",
    "image.release()\n",
    "cv2.destroyAllWindows()"
   ]
  }
 ],
 "metadata": {
  "kernelspec": {
   "display_name": "Python 3 (ipykernel)",
   "language": "python",
   "name": "python3"
  },
  "language_info": {
   "codemirror_mode": {
    "name": "ipython",
    "version": 3
   },
   "file_extension": ".py",
   "mimetype": "text/x-python",
   "name": "python",
   "nbconvert_exporter": "python",
   "pygments_lexer": "ipython3",
   "version": "3.10.7"
  },
  "varInspector": {
   "cols": {
    "lenName": 16,
    "lenType": 16,
    "lenVar": 40
   },
   "kernels_config": {
    "python": {
     "delete_cmd_postfix": "",
     "delete_cmd_prefix": "del ",
     "library": "var_list.py",
     "varRefreshCmd": "print(var_dic_list())"
    },
    "r": {
     "delete_cmd_postfix": ") ",
     "delete_cmd_prefix": "rm(",
     "library": "var_list.r",
     "varRefreshCmd": "cat(var_dic_list()) "
    }
   },
   "types_to_exclude": [
    "module",
    "function",
    "builtin_function_or_method",
    "instance",
    "_Feature"
   ],
   "window_display": false
  }
 },
 "nbformat": 4,
 "nbformat_minor": 5
}
